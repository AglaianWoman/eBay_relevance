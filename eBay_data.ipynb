{
 "cells": [
  {
   "cell_type": "code",
   "execution_count": 44,
   "metadata": {
    "collapsed": false
   },
   "outputs": [
    {
     "data": {
      "text/html": [
       "\n",
       "<style>\n",
       "\n",
       "div.text_cell_render { /* Customize text cells */\n",
       "font-family: 'Times New Roman';\n",
       "font-size:1.1em;\n",
       "line-height:1.2em;\n",
       "padding-left:.2em;\n",
       "padding-right:1em;\n",
       "}\n",
       "</style>\n"
      ],
      "text/plain": [
       "<IPython.core.display.HTML object>"
      ]
     },
     "execution_count": 44,
     "metadata": {},
     "output_type": "execute_result"
    }
   ],
   "source": [
    "#### Set up markdown style\n",
    "from IPython.core.display import HTML\n",
    "HTML(\"\"\"\n",
    "<style>\n",
    "\n",
    "div.text_cell_render { /* Customize text cells */\n",
    "font-family: 'Times New Roman';\n",
    "font-size:1.1em;\n",
    "line-height:1.2em;\n",
    "padding-left:.2em;\n",
    "padding-right:1em;\n",
    "}\n",
    "</style>\n",
    "\"\"\")"
   ]
  },
  {
   "cell_type": "markdown",
   "metadata": {},
   "source": [
    " "
   ]
  },
  {
   "cell_type": "markdown",
   "metadata": {},
   "source": [
    "## A Simple Analysis of Search Rankings\n",
    "\n",
    "The goal of this short project was to explore some of the characteristics of search listings on eBay and determine whether the description of the objects (among other variables) affected the order of the search results.\n",
    "\n",
    "I used a search of \"blue 4 person tent waterproof\" as my test case. This is something outside of my usual eBay user profile (I don't recall ever having searched for camping gear on eBay before). The line of reasoning is that the preferences for this category of items may be less affected by my user history/affinities and more by the characteristics of the products themselves.\n"
   ]
  },
  {
   "cell_type": "markdown",
   "metadata": {},
   "source": [
    " "
   ]
  },
  {
   "cell_type": "code",
   "execution_count": 35,
   "metadata": {
    "collapsed": false
   },
   "outputs": [
    {
     "data": {
      "image/jpeg": "[encoded data removed]",
      "text/plain": [
       "<IPython.core.display.Image object>"
      ]
     },
     "execution_count": 35,
     "metadata": {},
     "output_type": "execute_result"
    }
   ],
   "source": [
    "from IPython.display import Image\n",
    "Image(filename='./tent.jpeg')"
   ]
  },
  {
   "cell_type": "markdown",
   "metadata": {},
   "source": [
    "### Data Acquisition"
   ]
  },
  {
   "cell_type": "markdown",
   "metadata": {},
   "source": [
    "First, I loaded in some of my usual analysis packages..."
   ]
  },
  {
   "cell_type": "code",
   "execution_count": 1,
   "metadata": {
    "collapsed": false
   },
   "outputs": [],
   "source": [
    "%matplotlib inline\n",
    "import os\n",
    "import html\n",
    "import urllib2, cookielib\n",
    "from urllib2 import Request\n",
    "import re, string\n",
    "import operator\n",
    "import image\n",
    "from IPython.display import Image, display\n",
    "import numpy as np\n",
    "from fuzzywuzzy import fuzz\n",
    "from fuzzywuzzy import process\n",
    "import numpy\n",
    "from pylab import *\n",
    "from matplotlib import *\n",
    "import pandas as pd\n",
    "import sklearn"
   ]
  },
  {
   "cell_type": "markdown",
   "metadata": {
    "collapsed": true
   },
   "source": [
    "In order to get some data to work with, I coded up a little webscrape to get the top search results for \"blue 4 person tent waterproof\" on eBay. This allowed me to get the page address for each of the search results for this query: "
   ]
  },
  {
   "cell_type": "code",
   "execution_count": 2,
   "metadata": {
    "collapsed": false
   },
   "outputs": [],
   "source": [
    "def search_results(webpage):\n",
    "    site = webpage\n",
    "\n",
    "    hdr = {'User-Agent': 'Mozilla/5.0 (X11; Linux x86_64) AppleWebKit/537.11 (KHTML, like Gecko) Chrome/23.0.1271.64 Safari/537.11',\n",
    "           'Accept': 'text/html,application/xhtml+xml,application/xml;q=0.9,*/*;q=0.8',\n",
    "           'Accept-Charset': 'ISO-8859-1,utf-8;q=0.7,*;q=0.3',\n",
    "           'Accept-Encoding': 'none',\n",
    "           'Accept-Language': 'en-US,en;q=0.8',\n",
    "           'Connection': 'keep-alive'}\n",
    "\n",
    "    req = urllib2.Request(site, headers=hdr)\n",
    "\n",
    "    try:\n",
    "        page = urllib2.urlopen(req)\n",
    "    except urllib2.HTTPError, e:\n",
    "        print 'Exception 1 - Search did not work'\n",
    "\n",
    "    ### read in page\n",
    "    content = page.read()\n",
    "    ### find pages with top search results\n",
    "    findstr = r'<h3 class=\"lvtitle\"><a href=\"http://www.ebay.com/itm/'+'[^\"]*'+'\"  class=\"vip\"'\n",
    "    result = re.findall(findstr, content)\n",
    "    return result"
   ]
  },
  {
   "cell_type": "markdown",
   "metadata": {
    "collapsed": false
   },
   "source": [
    "Next, a bit of code took those URLs from the search results page and extracted various information for each of those products - things like the product description, the number of items sold, the rate of eBay user views of the product (if noted on page), the number of users watching that product, the rating of the seller of that item, and the price.\n",
    "\n",
    "While these are only a few (easy to scrape) features to work with, the hope was to gain a little bit of basic insight into how the search results are ordered/determined. In particular, I was interested in whether the *relevancy* of the description of the item to its \"category\" (in this case, camping gear) was in any way related to its order in the search results, or any of the other factors."
   ]
  },
  {
   "cell_type": "code",
   "execution_count": 15,
   "metadata": {
    "collapsed": false
   },
   "outputs": [],
   "source": [
    "def lookup_description(result, n=5):\n",
    "    if len(result)!=0:\n",
    "        #### for each of n pages, grab description\n",
    "        res = []; views = []; tm=[]; n_sold = []; seller_fdbk = []; n_watch = []; price = []; sale = []\n",
    "        for j in arange(0,n):\n",
    "            #### grab page, using previous result, to go to webpage \n",
    "            nextpage = result[j][29:-14]\n",
    "            hdr = {'User-Agent': 'Mozilla/5.0 (X11; Linux x86_64) AppleWebKit/537.11 (KHTML, like Gecko) Chrome/23.0.1271.64 Safari/537.11',\n",
    "                   'Accept': 'text/html,application/xhtml+xml,application/xml;q=0.9,*/*;q=0.8',\n",
    "                   'Accept-Charset': 'ISO-8859-1,utf-8;q=0.7,*;q=0.3',\n",
    "                   'Accept-Encoding': 'none',\n",
    "                   'Accept-Language': 'en-US,en;q=0.8',\n",
    "                   'Connection': 'keep-alive'}\n",
    "            req = urllib2.Request(nextpage, headers=hdr)\n",
    "\n",
    "            try:\n",
    "                page = urllib2.urlopen(req)\n",
    "            except urllib2.HTTPError, e:\n",
    "                print 'Exception 2 - Bad link'\n",
    "\n",
    "            content = page.read()  ### read page\n",
    "\n",
    "            ### find string that has description\n",
    "            findstr = r'<meta Property=\"og:description\" Content=\"'+'[^\"]*'+'| eBay!\" />'\n",
    "            result2 = re.findall(findstr, content)\n",
    "            if len(result2)>0:\n",
    "                result2 = (atleast_1d(result2)[0][41:-7]).lower()#.strip('')\n",
    "                for i in ['&quot', '[.,:;]','&apos']:\n",
    "                    result2 = re.sub(i, '', result2)\n",
    "                res.append(result2)\n",
    "            else: res.append(' ')\n",
    "\n",
    "            ### find views per day\n",
    "            findstr = r'>'+'[^\"]*'+' viewed per '+'[^\"]*'+'</span>'\n",
    "            st = re.findall(findstr, content)\n",
    "            if len(st)>0:\n",
    "                #print st[0], st[0][1:3], st[0][-11:-7]\n",
    "                views.append(float(st[0][1:3])); tm.append(st[0][-11:-7].strip())\n",
    "            else: views.append(NaN); tm.append(NaN)\n",
    "\n",
    "            ### number sold\n",
    "            findstr = r'\">'+'[\\d]*'+' sold'\n",
    "            st = re.findall(findstr, content)\n",
    "            if len(st)>0:\n",
    "                n_sold.append(int(st[0][2:-5]))\n",
    "            else: n_sold.append(NaN)\n",
    "\n",
    "            ### seller % positive feedback\n",
    "            findstr = '>'+'[^\"]*'+'Positive feedback<'\n",
    "            st = re.findall(findstr, content)\n",
    "            if len(st)>0:\n",
    "                seller_fdbk.append(float((st[0][1:4]).strip('%')))\n",
    "            else: seller_fdbk.append(NaN)\n",
    "\n",
    "            ### number watching\n",
    "            findstr = '>'+'[^\"]*'+'</span> watching</span>'\n",
    "            st = re.findall(findstr, content)\n",
    "            if len(st)>0:\n",
    "                n_watch.append(int(st[0][1:-23]))\n",
    "            else: n_watch.append(NaN)\n",
    "                \n",
    "            ### price\n",
    "            findstr = 'itemprop=\"price\"  style=\"\" content=\"'+'[^\"]*'+'\">'\n",
    "            st = re.findall(findstr, content)\n",
    "            if len(st)>0:\n",
    "                price.append(float(st[0][36:-2]))\n",
    "            else: price.append(NaN)\n",
    "                \n",
    "    return res, views, tm, n_sold, seller_fdbk, n_watch, price\n",
    "#lookup_description(res[20:21], n=1)"
   ]
  },
  {
   "cell_type": "markdown",
   "metadata": {
    "collapsed": true
   },
   "source": [
    " "
   ]
  },
  {
   "cell_type": "markdown",
   "metadata": {
    "collapsed": false
   },
   "source": [
    " \n",
    "Last, there is a piece of code that uses fuzzy matching to determine how many \"relevant\" camping words are present in the item description. This is, of course, somewhat arbitrary and subjective based on the list of \"camping words\" that I googled. Nevertheless, it should give some idea of whether item descriptions are focused on the product and the experience it advertises.\n",
    "\n",
    "In the mehod in which I have set up the feature, a greater number of relevant camping words in the product description leads to a greater \"relevance score\"."
   ]
  },
  {
   "cell_type": "code",
   "execution_count": 4,
   "metadata": {
    "collapsed": false
   },
   "outputs": [],
   "source": [
    "def get_camping_relevance(res):\n",
    "    camping = np.loadtxt('./camping_words.txt', delimiter=',', dtype='S99')\n",
    "    camping = [wd.strip().lower() for wd in camping]\n",
    "    total = []; descrp_lens = []\n",
    "    for j, desc in enumerate(res):\n",
    "        tot = 0; descrp_lens.append(len(desc))\n",
    "        for i, word in enumerate(desc.split()):\n",
    "            for k,ls in enumerate(camping):\n",
    "                if fuzz.token_sort_ratio(word, ls)>=90:\n",
    "                    #print ls, word\n",
    "                    tot += 1\n",
    "        total.append(tot)\n",
    "    return total, descrp_lens"
   ]
  },
  {
   "cell_type": "markdown",
   "metadata": {},
   "source": [
    " "
   ]
  },
  {
   "cell_type": "markdown",
   "metadata": {
    "collapsed": false
   },
   "source": [
    "### Extracting/cleaning the data "
   ]
  },
  {
   "cell_type": "markdown",
   "metadata": {},
   "source": [
    "All right, now the access to the data is all set up -- let's get into it. "
   ]
  },
  {
   "cell_type": "code",
   "execution_count": 16,
   "metadata": {
    "collapsed": false
   },
   "outputs": [],
   "source": [
    "#page1 = 'http://www.ebay.com/sch/i.html?_from=R40&_sacat=888%27&_nkw=blue+4+person+tent+waterproof&_pgn=1&_skc=50&rt=nc'\n",
    "#res = search_results(page1)\n",
    "#for i in range(2,13):\n",
    "#    page2 = 'http://www.ebay.com/sch/i.html?_from=R40&_sacat=888%27&_nkw=blue+4+person+tent+waterproof&_pgn='+str(i)+'&_skc=50&rt=nc'\n",
    "#    res2 = search_results(page2)\n",
    "#    res = concatenate((res,res2))\n",
    "#res = unique(res)\n",
    "\n",
    "txt, views, tm, n_sold, seller_fdbk, n_watch, price = lookup_description(res, n=len(res))\n",
    "rel, length_desc = get_camping_relevance(txt)"
   ]
  },
  {
   "cell_type": "markdown",
   "metadata": {},
   "source": [
    "... And into a dataframe it goes."
   ]
  },
  {
   "cell_type": "code",
   "execution_count": 17,
   "metadata": {
    "collapsed": false
   },
   "outputs": [],
   "source": [
    "DF = pd.DataFrame()\n",
    "DF['Description'] = txt; DF['Relevance'] = rel; DF['Length'] = length_desc; DF['Price'] = price\n",
    "DF['NumSold'] = n_sold; DF['NumWatching'] = n_watch; DF['SellerRating'] = seller_fdbk# - mean(seller_fdbk))/std(seller_fdbk)\n",
    "\n",
    "#### the views are listed (if they are listed) by hour or by day -- so here we convert to make all into hours\n",
    "vrate = []\n",
    "for i,n in enumerate(views):\n",
    "    if tm[i]=='hour':\n",
    "        vrate.append(n*24.)\n",
    "    elif tm[i]=='day':\n",
    "        vrate.append(n)\n",
    "    elif tm[i]==NaN or tm[i]==0:\n",
    "        vrate.append(NaN)\n",
    "    else:\n",
    "        vrate.append(NaN)\n",
    "DF['ViewRate'] = vrate  ### number of viewers per day, if provided\n",
    "DF['Rank'] = DF.index   ### the order of the results - from 1 to N results, with 1 being the first result on the page\n",
    "\n",
    "#### I decided to fill the non-existent values with zeros rather than interpolate\n",
    "#### As the data is imbalanced, it threw off the eventual model by cutting the predictive power in half\n",
    "#DF.interpolate(method='linear', limit_direction='both', inplace=True)\n",
    "DF.fillna(value=0.,inplace=True)"
   ]
  },
  {
   "cell_type": "code",
   "execution_count": 18,
   "metadata": {
    "collapsed": false
   },
   "outputs": [],
   "source": [
    "### save results to a static file for my own purposes\n",
    "#import pickle\n",
    "#DF.to_pickle('ResultsTable.pickle')\n",
    "DF = pd.read_pickle('ResultsTable.pickle')"
   ]
  },
  {
   "cell_type": "markdown",
   "metadata": {},
   "source": [
    "A brief look at the first few rows of the dataset:"
   ]
  },
  {
   "cell_type": "code",
   "execution_count": 20,
   "metadata": {
    "collapsed": false
   },
   "outputs": [
    {
     "data": {
      "text/html": [
       "<div>\n",
       "<table border=\"1\" class=\"dataframe\">\n",
       "  <thead>\n",
       "    <tr style=\"text-align: right;\">\n",
       "      <th></th>\n",
       "      <th>Description</th>\n",
       "      <th>Relevance</th>\n",
       "      <th>Length</th>\n",
       "      <th>Price</th>\n",
       "      <th>NumSold</th>\n",
       "      <th>NumWatching</th>\n",
       "      <th>SellerRating</th>\n",
       "      <th>ViewRate</th>\n",
       "      <th>Rank</th>\n",
       "    </tr>\n",
       "  </thead>\n",
       "  <tbody>\n",
       "    <tr>\n",
       "      <th>0</th>\n",
       "      <td>comfortable compact and lightweight take this ...</td>\n",
       "      <td>4</td>\n",
       "      <td>193</td>\n",
       "      <td>32.91</td>\n",
       "      <td>0.0</td>\n",
       "      <td>0.0</td>\n",
       "      <td>98.0</td>\n",
       "      <td>0.0</td>\n",
       "      <td>0</td>\n",
       "    </tr>\n",
       "    <tr>\n",
       "      <th>1</th>\n",
       "      <td>this tent is a must on your next outdoor adven...</td>\n",
       "      <td>7</td>\n",
       "      <td>247</td>\n",
       "      <td>13.33</td>\n",
       "      <td>20.0</td>\n",
       "      <td>10.0</td>\n",
       "      <td>98.0</td>\n",
       "      <td>0.0</td>\n",
       "      <td>1</td>\n",
       "    </tr>\n",
       "    <tr>\n",
       "      <th>2</th>\n",
       "      <td>waterproof &amp;amp uv resistant 190t polyester us...</td>\n",
       "      <td>7</td>\n",
       "      <td>264</td>\n",
       "      <td>36.99</td>\n",
       "      <td>3.0</td>\n",
       "      <td>3.0</td>\n",
       "      <td>99.0</td>\n",
       "      <td>0.0</td>\n",
       "      <td>2</td>\n",
       "    </tr>\n",
       "    <tr>\n",
       "      <th>3</th>\n",
       "      <td>comfortable compact and lightweight take this ...</td>\n",
       "      <td>4</td>\n",
       "      <td>193</td>\n",
       "      <td>0.00</td>\n",
       "      <td>7.0</td>\n",
       "      <td>8.0</td>\n",
       "      <td>98.0</td>\n",
       "      <td>0.0</td>\n",
       "      <td>3</td>\n",
       "    </tr>\n",
       "    <tr>\n",
       "      <th>4</th>\n",
       "      <td>a funny and unforgettable camping starts from ...</td>\n",
       "      <td>3</td>\n",
       "      <td>229</td>\n",
       "      <td>45.50</td>\n",
       "      <td>0.0</td>\n",
       "      <td>0.0</td>\n",
       "      <td>98.0</td>\n",
       "      <td>0.0</td>\n",
       "      <td>4</td>\n",
       "    </tr>\n",
       "  </tbody>\n",
       "</table>\n",
       "</div>"
      ],
      "text/plain": [
       "                                         Description  Relevance  Length  \\\n",
       "0  comfortable compact and lightweight take this ...          4     193   \n",
       "1  this tent is a must on your next outdoor adven...          7     247   \n",
       "2  waterproof &amp uv resistant 190t polyester us...          7     264   \n",
       "3  comfortable compact and lightweight take this ...          4     193   \n",
       "4  a funny and unforgettable camping starts from ...          3     229   \n",
       "\n",
       "   Price  NumSold  NumWatching  SellerRating  ViewRate  Rank  \n",
       "0  32.91      0.0          0.0          98.0       0.0     0  \n",
       "1  13.33     20.0         10.0          98.0       0.0     1  \n",
       "2  36.99      3.0          3.0          99.0       0.0     2  \n",
       "3   0.00      7.0          8.0          98.0       0.0     3  \n",
       "4  45.50      0.0          0.0          98.0       0.0     4  "
      ]
     },
     "execution_count": 20,
     "metadata": {},
     "output_type": "execute_result"
    }
   ],
   "source": [
    "DF.head()"
   ]
  },
  {
   "cell_type": "markdown",
   "metadata": {
    "collapsed": false
   },
   "source": [
    " "
   ]
  },
  {
   "cell_type": "markdown",
   "metadata": {},
   "source": [
    "### Exploratory Analysis"
   ]
  },
  {
   "cell_type": "markdown",
   "metadata": {},
   "source": [
    " \n",
    "Now our data is scraped from the web and cleaned up into a nice dataframe. Time for an exploratory look at the data (the plot below).\n",
    "\n",
    "It's clear (as expected) that the numbers of those watching items and the number sold are largely either not watched/sold, or not mentioned on the page (this could an option I am unaware of - for the seller to decide to show this information to the prospective buyer or not). Regardless, this makes the data highly imbalanced. Unfortunately, with barely 100 data points, there is not much to resample from where there are non-null values. Clearly, this will make building a model on so few points/features difficult.\n",
    "\n",
    "The relevance has a nice range of values. The number watching/sold and view rate have very similar shapes (I'll return to this point in a moment). The description lengths suggest that most sellers use up to close the maximum length. Only one product description is longer than 460 characters; the rest are under 325. This one product description is so far beyond the range it is likely to be an anomaly.\n",
    "\n",
    "The seller rating is intruiging. I would expect it to not have a lot of predicting power, as there is an extremely small range of values (95% to 100%). I wonder how much effect these ratings actually have on customer perception of a seller/product if they are all essentially equivalent (clustered in the top 5% possible rating)."
   ]
  },
  {
   "cell_type": "code",
   "execution_count": 21,
   "metadata": {
    "collapsed": false
   },
   "outputs": [
    {
     "data": {
      "image/png": "[encoded data removed]",
      "text/plain": [
       "<matplotlib.figure.Figure at 0x1197130d0>"
      ]
     },
     "metadata": {},
     "output_type": "display_data"
    }
   ],
   "source": [
    "df = pd.DataFrame(DF, columns=(['Relevance','Length','NumSold','NumWatching','SellerRating','ViewRate','Price']))\n",
    "df.plot(kind='density', subplots=True, layout=(2,4), figsize=(22,13), sharex=False, sharey=False,)\n",
    "plt.show()"
   ]
  },
  {
   "cell_type": "markdown",
   "metadata": {
    "collapsed": false
   },
   "source": [
    " \n",
    "At first glance, I found it fascinating that the price appears bimodal. Looking at the very few products above $250, it appears from the descriptions that perhaps they are intended for more than four people or for modifying SUVs. Being larger in size/more complex, the tents naturally would cost more. Nothing else is unusual or unique about this small set of more expensive products.\n",
    "\n",
    "The descriptions of these expensive products, below:"
   ]
  },
  {
   "cell_type": "code",
   "execution_count": 24,
   "metadata": {
    "collapsed": false
   },
   "outputs": [
    {
     "data": {
      "text/plain": [
       "['this coleman 12-person double hub instant tent has enough room for you and 11 of your best friends it has a center height of 64 so it will accommodate most adults it has enough space for four queen airbeds ',\n",
       " 'sportz suv tent by napier\\xc2\\xae 9 x 9 x 725 capacity 5/7 person blue/gray/blue color napier\\xe2\\x80\\x99s suv tents are the only suv tents on the market with a detachable vehicle sleeve this tent create the ultimate camping oasis wherever you take it ',\n",
       " 'ozark trail 14-person 4-room cabin tent in addition each of the tents four rooms has a separate door so no more tripping over your friends on a late-night bathroom run it sets up easily with two people in 20 minutes ',\n",
       " 'sportz full size suv 82000 tentmodel 82000 mnufacturer napier the sportz suv 82000 tent quickly transforms your cuv suv or minivan into a comfortable home away from home no more having to unzip and zip tent doors and open and close vehicle doors to get something you need from your vehicle ',\n",
       " 'the sportz suv tent 82000 quickly transforms your suv cuv or minivan into a comfortable home away from home no more having to run back and forth to the car to grab your adventure supplies keep your tent in the back of your vehicle and be ready for anything because you cant always predict when youll hear the call of the wild ']"
      ]
     },
     "execution_count": 24,
     "metadata": {},
     "output_type": "execute_result"
    }
   ],
   "source": [
    "[i for i in DF['Description'][(DF['Price']>250)]]"
   ]
  },
  {
   "cell_type": "markdown",
   "metadata": {
    "collapsed": false,
    "scrolled": false
   },
   "source": [
    " "
   ]
  },
  {
   "cell_type": "markdown",
   "metadata": {},
   "source": [
    "Time to look at which features may be related to the order of the product search."
   ]
  },
  {
   "cell_type": "code",
   "execution_count": 25,
   "metadata": {
    "collapsed": false
   },
   "outputs": [
    {
     "data": {
      "text/html": [
       "<div>\n",
       "<table border=\"1\" class=\"dataframe\">\n",
       "  <thead>\n",
       "    <tr style=\"text-align: right;\">\n",
       "      <th></th>\n",
       "      <th>Relevance</th>\n",
       "      <th>Length</th>\n",
       "      <th>Price</th>\n",
       "      <th>NumSold</th>\n",
       "      <th>NumWatching</th>\n",
       "      <th>SellerRating</th>\n",
       "      <th>ViewRate</th>\n",
       "      <th>Rank</th>\n",
       "    </tr>\n",
       "  </thead>\n",
       "  <tbody>\n",
       "    <tr>\n",
       "      <th>Relevance</th>\n",
       "      <td>1.000000</td>\n",
       "      <td>0.602398</td>\n",
       "      <td>-0.168399</td>\n",
       "      <td>-0.144159</td>\n",
       "      <td>-0.141799</td>\n",
       "      <td>0.054366</td>\n",
       "      <td>-0.142224</td>\n",
       "      <td>-0.061019</td>\n",
       "    </tr>\n",
       "    <tr>\n",
       "      <th>Length</th>\n",
       "      <td>0.602398</td>\n",
       "      <td>1.000000</td>\n",
       "      <td>0.030578</td>\n",
       "      <td>-0.237044</td>\n",
       "      <td>-0.184554</td>\n",
       "      <td>-0.157096</td>\n",
       "      <td>-0.116932</td>\n",
       "      <td>0.059735</td>\n",
       "    </tr>\n",
       "    <tr>\n",
       "      <th>Price</th>\n",
       "      <td>-0.168399</td>\n",
       "      <td>0.030578</td>\n",
       "      <td>1.000000</td>\n",
       "      <td>-0.160043</td>\n",
       "      <td>-0.079805</td>\n",
       "      <td>0.125032</td>\n",
       "      <td>-0.035037</td>\n",
       "      <td>0.285503</td>\n",
       "    </tr>\n",
       "    <tr>\n",
       "      <th>NumSold</th>\n",
       "      <td>-0.144159</td>\n",
       "      <td>-0.237044</td>\n",
       "      <td>-0.160043</td>\n",
       "      <td>1.000000</td>\n",
       "      <td>0.921601</td>\n",
       "      <td>0.142787</td>\n",
       "      <td>0.571463</td>\n",
       "      <td>-0.083325</td>\n",
       "    </tr>\n",
       "    <tr>\n",
       "      <th>NumWatching</th>\n",
       "      <td>-0.141799</td>\n",
       "      <td>-0.184554</td>\n",
       "      <td>-0.079805</td>\n",
       "      <td>0.921601</td>\n",
       "      <td>1.000000</td>\n",
       "      <td>0.171139</td>\n",
       "      <td>0.564944</td>\n",
       "      <td>-0.043191</td>\n",
       "    </tr>\n",
       "    <tr>\n",
       "      <th>SellerRating</th>\n",
       "      <td>0.054366</td>\n",
       "      <td>-0.157096</td>\n",
       "      <td>0.125032</td>\n",
       "      <td>0.142787</td>\n",
       "      <td>0.171139</td>\n",
       "      <td>1.000000</td>\n",
       "      <td>0.171412</td>\n",
       "      <td>0.093042</td>\n",
       "    </tr>\n",
       "    <tr>\n",
       "      <th>ViewRate</th>\n",
       "      <td>-0.142224</td>\n",
       "      <td>-0.116932</td>\n",
       "      <td>-0.035037</td>\n",
       "      <td>0.571463</td>\n",
       "      <td>0.564944</td>\n",
       "      <td>0.171412</td>\n",
       "      <td>1.000000</td>\n",
       "      <td>-0.111679</td>\n",
       "    </tr>\n",
       "    <tr>\n",
       "      <th>Rank</th>\n",
       "      <td>-0.061019</td>\n",
       "      <td>0.059735</td>\n",
       "      <td>0.285503</td>\n",
       "      <td>-0.083325</td>\n",
       "      <td>-0.043191</td>\n",
       "      <td>0.093042</td>\n",
       "      <td>-0.111679</td>\n",
       "      <td>1.000000</td>\n",
       "    </tr>\n",
       "  </tbody>\n",
       "</table>\n",
       "</div>"
      ],
      "text/plain": [
       "              Relevance    Length     Price   NumSold  NumWatching  \\\n",
       "Relevance      1.000000  0.602398 -0.168399 -0.144159    -0.141799   \n",
       "Length         0.602398  1.000000  0.030578 -0.237044    -0.184554   \n",
       "Price         -0.168399  0.030578  1.000000 -0.160043    -0.079805   \n",
       "NumSold       -0.144159 -0.237044 -0.160043  1.000000     0.921601   \n",
       "NumWatching   -0.141799 -0.184554 -0.079805  0.921601     1.000000   \n",
       "SellerRating   0.054366 -0.157096  0.125032  0.142787     0.171139   \n",
       "ViewRate      -0.142224 -0.116932 -0.035037  0.571463     0.564944   \n",
       "Rank          -0.061019  0.059735  0.285503 -0.083325    -0.043191   \n",
       "\n",
       "              SellerRating  ViewRate      Rank  \n",
       "Relevance         0.054366 -0.142224 -0.061019  \n",
       "Length           -0.157096 -0.116932  0.059735  \n",
       "Price             0.125032 -0.035037  0.285503  \n",
       "NumSold           0.142787  0.571463 -0.083325  \n",
       "NumWatching       0.171139  0.564944 -0.043191  \n",
       "SellerRating      1.000000  0.171412  0.093042  \n",
       "ViewRate          0.171412  1.000000 -0.111679  \n",
       "Rank              0.093042 -0.111679  1.000000  "
      ]
     },
     "execution_count": 25,
     "metadata": {},
     "output_type": "execute_result"
    }
   ],
   "source": [
    "DF.corr()"
   ]
  },
  {
   "cell_type": "markdown",
   "metadata": {
    "collapsed": true
   },
   "source": [
    "The initial look at the data shows very weak correlations between the features and the order of the results. The ranking of each product seems to certainly be affected by price, with more expensive products being placed further down the list. This could be related to my particular affinity on eBay towards lower price points.\n",
    "\n",
    "The number watching and number sold do not appear to be strongly related to the product ranking (though they are understandably correlated very strongly to each other), suggesting popularity of the items by these metrics do not predict much about where the product appears in the list of search results.\n",
    "\n",
    "As predicted, the seller rating has very little effect on the ranking. Again, being in such a small range of values (5% near perfect) makes it an unlikely characteristic to sway consumers or differentiate between sellers.\n",
    "\n",
    "While relevance is correlated to length (clearly lengthier descriptions have more room for relevant camping vocabulary), it does not appear to affect the ranking. This is somewhat disappointing, as I was hoping this would be a indicator of appeal to the consumer, as well as a possible method by which sellers could improve their search result rankings."
   ]
  },
  {
   "cell_type": "markdown",
   "metadata": {},
   "source": [
    " "
   ]
  },
  {
   "cell_type": "markdown",
   "metadata": {
    "collapsed": true
   },
   "source": [
    "### A Brief Model"
   ]
  },
  {
   "cell_type": "markdown",
   "metadata": {},
   "source": [
    "Now, to pull together a rough model from these features, I use a ridge L2 classifier. This allows for multi-variate classification and weighting of the feature coefficients relative to their importance (with weaker features being penalized in a relative way). Correlated features will have similar coefficients.\n",
    "\n",
    "The main benefit of this approach (aside from accounting for multicollinearity) is that the model will likely be more stable and less affected by small changes in the data (thereby also avoiding overfitting). My favorite part about this approach is that the results remain easily interpretable, unlike other possible model choices."
   ]
  },
  {
   "cell_type": "code",
   "execution_count": 28,
   "metadata": {
    "collapsed": false
   },
   "outputs": [
    {
     "data": {
      "text/html": [
       "<div>\n",
       "<table border=\"1\" class=\"dataframe\">\n",
       "  <thead>\n",
       "    <tr style=\"text-align: right;\">\n",
       "      <th></th>\n",
       "      <th>Relevance</th>\n",
       "      <th>Length</th>\n",
       "      <th>Price</th>\n",
       "      <th>NumSold</th>\n",
       "      <th>NumWatching</th>\n",
       "      <th>SellerRating</th>\n",
       "      <th>ViewRate</th>\n",
       "    </tr>\n",
       "  </thead>\n",
       "  <tbody>\n",
       "    <tr>\n",
       "      <th>0</th>\n",
       "      <td>4</td>\n",
       "      <td>193</td>\n",
       "      <td>32.91</td>\n",
       "      <td>0.0</td>\n",
       "      <td>0.0</td>\n",
       "      <td>98.0</td>\n",
       "      <td>0.0</td>\n",
       "    </tr>\n",
       "    <tr>\n",
       "      <th>1</th>\n",
       "      <td>7</td>\n",
       "      <td>247</td>\n",
       "      <td>13.33</td>\n",
       "      <td>20.0</td>\n",
       "      <td>10.0</td>\n",
       "      <td>98.0</td>\n",
       "      <td>0.0</td>\n",
       "    </tr>\n",
       "    <tr>\n",
       "      <th>2</th>\n",
       "      <td>7</td>\n",
       "      <td>264</td>\n",
       "      <td>36.99</td>\n",
       "      <td>3.0</td>\n",
       "      <td>3.0</td>\n",
       "      <td>99.0</td>\n",
       "      <td>0.0</td>\n",
       "    </tr>\n",
       "    <tr>\n",
       "      <th>3</th>\n",
       "      <td>4</td>\n",
       "      <td>193</td>\n",
       "      <td>0.00</td>\n",
       "      <td>7.0</td>\n",
       "      <td>8.0</td>\n",
       "      <td>98.0</td>\n",
       "      <td>0.0</td>\n",
       "    </tr>\n",
       "    <tr>\n",
       "      <th>4</th>\n",
       "      <td>3</td>\n",
       "      <td>229</td>\n",
       "      <td>45.50</td>\n",
       "      <td>0.0</td>\n",
       "      <td>0.0</td>\n",
       "      <td>98.0</td>\n",
       "      <td>0.0</td>\n",
       "    </tr>\n",
       "  </tbody>\n",
       "</table>\n",
       "</div>"
      ],
      "text/plain": [
       "   Relevance  Length  Price  NumSold  NumWatching  SellerRating  ViewRate\n",
       "0          4     193  32.91      0.0          0.0          98.0       0.0\n",
       "1          7     247  13.33     20.0         10.0          98.0       0.0\n",
       "2          7     264  36.99      3.0          3.0          99.0       0.0\n",
       "3          4     193   0.00      7.0          8.0          98.0       0.0\n",
       "4          3     229  45.50      0.0          0.0          98.0       0.0"
      ]
     },
     "execution_count": 28,
     "metadata": {},
     "output_type": "execute_result"
    }
   ],
   "source": [
    "from sklearn.linear_model import Ridge\n",
    "from sklearn.metrics import r2_score\n",
    "\n",
    "df2 = pd.DataFrame(DF, columns=['Relevance', 'Length', 'Price', 'NumSold', 'NumWatching', 'SellerRating', 'ViewRate'])\n",
    "df2.fillna(value=0.,inplace=True)\n",
    "df2.head()"
   ]
  },
  {
   "cell_type": "code",
   "execution_count": null,
   "metadata": {
    "collapsed": false
   },
   "outputs": [],
   "source": []
  },
  {
   "cell_type": "code",
   "execution_count": 29,
   "metadata": {
    "collapsed": false
   },
   "outputs": [
    {
     "name": "stdout",
     "output_type": "stream",
     "text": [
      "Ridge model: [-1.06336228  0.03379483  0.06141493 -0.09182911 -0.00653026  2.14251676\n",
      " -0.4053794 ] \n",
      "\n",
      "R^2 Value: 0.20195242883 \n",
      "\n",
      "Predicted Rankings: [46, 39, 46, 46, 48, 51, 42, 41, 60, 60, 70, 72, 42]\n",
      "Actual Rankings: [0, 10, 13, 14, 20, 25, 50, 68, 70, 74, 78, 79, 88]\n"
     ]
    }
   ],
   "source": [
    "####### split into training and test sets here... need a random sample, not a straight split, because of rankings\n",
    "import random; seed(15)\n",
    "msk = np.random.rand(len(df2)) < 0.8\n",
    "Xtrain = df2[msk]; ytrain = DF['Rank'][msk]\n",
    "Xtest = df2[~msk]; ytest = DF['Rank'][~msk]\n",
    "\n",
    "ridge = Ridge(alpha=.1, normalize=True, solver='sag', tol=0.0000001)\n",
    "ridge.fit(Xtrain, pd.Series(ytrain))\n",
    "print \"Ridge model:\", ridge.coef_, '\\n'#, ridge.intercept_, ridge.score\n",
    "\n",
    "#predd = ridge.predict(Xtest)\n",
    "print 'R^2 Value:', ridge.score(Xtest, ytest), '\\n'\n",
    "print 'Predicted Rankings:', [int(i) for i in ridge.predict(Xtest)]\n",
    "print 'Actual Rankings:', list(ytest)"
   ]
  },
  {
   "cell_type": "markdown",
   "metadata": {},
   "source": [
    " "
   ]
  },
  {
   "cell_type": "code",
   "execution_count": 32,
   "metadata": {
    "collapsed": false
   },
   "outputs": [
    {
     "data": {
      "text/plain": [
       "<matplotlib.text.Text at 0x11bff0bd0>"
      ]
     },
     "execution_count": 32,
     "metadata": {},
     "output_type": "execute_result"
    },
    {
     "data": {
      "image/png": "[encoded data removed]",
      "text/plain": [
       "<matplotlib.figure.Figure at 0x1152c93d0>"
      ]
     },
     "metadata": {},
     "output_type": "display_data"
    }
   ],
   "source": [
    "plot([int(i) for i in ridge.predict(Xtest)], list(ytest), 'k.')\n",
    "xlabel('Predicted Rank'); ylabel('Actual Rank')"
   ]
  },
  {
   "cell_type": "markdown",
   "metadata": {},
   "source": [
    " "
   ]
  },
  {
   "cell_type": "markdown",
   "metadata": {},
   "source": [
    "The model is, sadly, quite awful. It has some *relative* predictive power, but little in the way of *absolute* predictive power. Of course, this is fairly unsurprising considering the initial assessment showing little correlation.\n",
    "\n",
    "There are a number of factors, unaccounted for, which could also be useful features or constraints -- sales, promoted products, and the enormous list of user preferences. If I had more time to scrape additional features, the rating of each product, the reviews/sentiment of reviews, and whether the item is discounted in price would likely be the best next choice for predictive features to add to the model. Whether or not shipping takes more than a few days could also be an important factor.\n",
    "\n",
    "I was interested if the ranking was sensitive to the description's relevance to the category -- clearly it is not. However, if it had been, it could help sellers modify minor things like word choice to gain a better place for their products in rankings.\n",
    "\n",
    "If a larger dataset of items and features were available, I would look further at whether the relevance was related to the frequency or time spent looking at a particual product and its ranking, taking into account the customer's history of purchase frequency, price point, etc. If time allows, I would like to repeat this analysis for varying search queries to compare the results.\n"
   ]
  },
  {
   "cell_type": "markdown",
   "metadata": {
    "collapsed": true
   },
   "source": [
    " "
   ]
  },
  {
   "cell_type": "code",
   "execution_count": null,
   "metadata": {
    "collapsed": true
   },
   "outputs": [],
   "source": []
  }
 ],
 "metadata": {
  "kernelspec": {
   "display_name": "Python 2",
   "language": "python",
   "name": "python2"
  },
  "language_info": {
   "codemirror_mode": {
    "name": "ipython",
    "version": 2
   },
   "file_extension": ".py",
   "mimetype": "text/x-python",
   "name": "python",
   "nbconvert_exporter": "python",
   "pygments_lexer": "ipython2",
   "version": "2.7.12"
  }
 },
 "nbformat": 4,
 "nbformat_minor": 0
}
